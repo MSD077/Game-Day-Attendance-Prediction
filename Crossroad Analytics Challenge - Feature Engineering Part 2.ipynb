{
 "cells": [
  {
   "cell_type": "code",
   "execution_count": 2,
   "id": "77630aff",
   "metadata": {},
   "outputs": [],
   "source": [
    "import pandas as pd\n",
    "import numpy as np\n",
    "from datetime import datetime, date\n",
    "from pandas.tseries.holiday import USFederalHolidayCalendar as calendar\n",
    "\n",
    "import matplotlib.pyplot as plt\n",
    "import seaborn as sns\n",
    "\n",
    "import scipy"
   ]
  },
  {
   "cell_type": "code",
   "execution_count": 72,
   "id": "bde11687",
   "metadata": {},
   "outputs": [],
   "source": [
    "import pandas as pd\n",
    "import numpy as np\n",
    "from datetime import datetime, date\n",
    "\n",
    "import matplotlib.pyplot as plt\n",
    "import seaborn as sns\n",
    "\n",
    "from sklearn.model_selection import train_test_split\n",
    "from sklearn.pipeline import Pipeline\n",
    "from sklearn.preprocessing import StandardScaler\n",
    "from sklearn.impute import SimpleImputer\n",
    "from sklearn.preprocessing import OneHotEncoder \n",
    "from sklearn.pipeline import FeatureUnion\n",
    "from sklearn.ensemble import RandomForestClassifier\n",
    "from sklearn.base import BaseEstimator, TransformerMixin\n",
    "from sklearn.metrics import accuracy_score\n",
    "from sklearn.model_selection import GridSearchCV\n",
    "from sklearn.metrics import accuracy_score, classification_report\n",
    "from sklearn.model_selection import RandomizedSearchCV\n",
    "from scipy.stats import uniform as sp_randFloat\n",
    "from scipy.stats import randint as sp_randInt\n",
    "from sklearn.metrics import mean_squared_error\n",
    "from sklearn.metrics import r2_score\n",
    "from sklearn.linear_model import Lasso\n",
    "from sklearn.compose import ColumnTransformer\n",
    "from sklearn.cluster import KMeans\n",
    "from sklearn.svm import SVR\n",
    "from sklearn import metrics\n",
    "from sklearn.decomposition import PCA\n",
    "from xgboost import XGBClassifier\n",
    "from sklearn.model_selection import RepeatedStratifiedKFold\n",
    "from sklearn.model_selection import cross_val_score\n",
    "from sklearn.metrics import f1_score\n",
    "from sklearn.metrics import precision_score\n",
    "from sklearn.metrics import roc_auc_score\n",
    "from sklearn.metrics import recall_score\n",
    "from sklearn.model_selection import StratifiedKFold\n",
    "from catboost import CatBoostClassifier\n",
    "from lightgbm import LGBMClassifier"
   ]
  },
  {
   "cell_type": "code",
   "execution_count": 3,
   "id": "1ceb80ac",
   "metadata": {},
   "outputs": [
    {
     "name": "stderr",
     "output_type": "stream",
     "text": [
      "/var/folders/vg/7d4f1ys12s17fxmrbfx48h4h0000gn/T/ipykernel_5161/4197311411.py:1: DtypeWarning: Columns (0,30) have mixed types. Specify dtype option on import or set low_memory=False.\n",
      "  df = pd.read_csv('Cross Road Analytics Competition Dataset.csv')\n"
     ]
    },
    {
     "data": {
      "text/html": [
       "<div>\n",
       "<style scoped>\n",
       "    .dataframe tbody tr th:only-of-type {\n",
       "        vertical-align: middle;\n",
       "    }\n",
       "\n",
       "    .dataframe tbody tr th {\n",
       "        vertical-align: top;\n",
       "    }\n",
       "\n",
       "    .dataframe thead th {\n",
       "        text-align: right;\n",
       "    }\n",
       "</style>\n",
       "<table border=\"1\" class=\"dataframe\">\n",
       "  <thead>\n",
       "    <tr style=\"text-align: right;\">\n",
       "      <th></th>\n",
       "      <th>acct_id</th>\n",
       "      <th>acct_type_desc</th>\n",
       "      <th>event_name</th>\n",
       "      <th>event_date</th>\n",
       "      <th>plan_event_name</th>\n",
       "      <th>comp_name</th>\n",
       "      <th>section_name</th>\n",
       "      <th>row_name</th>\n",
       "      <th>SeatNum</th>\n",
       "      <th>price_code</th>\n",
       "      <th>...</th>\n",
       "      <th>SeatUniqueID</th>\n",
       "      <th>Season</th>\n",
       "      <th>ClubExpYear</th>\n",
       "      <th>Tenure</th>\n",
       "      <th>UniqueID</th>\n",
       "      <th>isAttended</th>\n",
       "      <th>Resold</th>\n",
       "      <th>ResalePrice</th>\n",
       "      <th>ResaleDate</th>\n",
       "      <th>isSTM</th>\n",
       "    </tr>\n",
       "  </thead>\n",
       "  <tbody>\n",
       "    <tr>\n",
       "      <th>0</th>\n",
       "      <td>117948790</td>\n",
       "      <td>Season</td>\n",
       "      <td>CLT21HOU</td>\n",
       "      <td>2021-10-17</td>\n",
       "      <td>21FS</td>\n",
       "      <td>Not Comp</td>\n",
       "      <td>101</td>\n",
       "      <td>10</td>\n",
       "      <td>1</td>\n",
       "      <td>FR</td>\n",
       "      <td>...</td>\n",
       "      <td>101-10-1</td>\n",
       "      <td>2021</td>\n",
       "      <td>NaN</td>\n",
       "      <td>25.0</td>\n",
       "      <td>CLT21HOU-101-10-1</td>\n",
       "      <td>Yes</td>\n",
       "      <td>NaN</td>\n",
       "      <td>NaN</td>\n",
       "      <td>NaN</td>\n",
       "      <td>NaN</td>\n",
       "    </tr>\n",
       "    <tr>\n",
       "      <th>1</th>\n",
       "      <td>126665090</td>\n",
       "      <td>Season</td>\n",
       "      <td>CLT21HOU</td>\n",
       "      <td>2021-10-17</td>\n",
       "      <td>21FS</td>\n",
       "      <td>Not Comp</td>\n",
       "      <td>101</td>\n",
       "      <td>10</td>\n",
       "      <td>10</td>\n",
       "      <td>FR</td>\n",
       "      <td>...</td>\n",
       "      <td>101-10-10</td>\n",
       "      <td>2021</td>\n",
       "      <td>NaN</td>\n",
       "      <td>20.0</td>\n",
       "      <td>CLT21HOU-101-10-10</td>\n",
       "      <td>No</td>\n",
       "      <td>NaN</td>\n",
       "      <td>NaN</td>\n",
       "      <td>NaN</td>\n",
       "      <td>NaN</td>\n",
       "    </tr>\n",
       "    <tr>\n",
       "      <th>2</th>\n",
       "      <td>126665090</td>\n",
       "      <td>Season</td>\n",
       "      <td>CLT21HOU</td>\n",
       "      <td>2021-10-17</td>\n",
       "      <td>21FS</td>\n",
       "      <td>Not Comp</td>\n",
       "      <td>101</td>\n",
       "      <td>10</td>\n",
       "      <td>11</td>\n",
       "      <td>FR</td>\n",
       "      <td>...</td>\n",
       "      <td>101-10-11</td>\n",
       "      <td>2021</td>\n",
       "      <td>NaN</td>\n",
       "      <td>20.0</td>\n",
       "      <td>CLT21HOU-101-10-11</td>\n",
       "      <td>No</td>\n",
       "      <td>NaN</td>\n",
       "      <td>NaN</td>\n",
       "      <td>NaN</td>\n",
       "      <td>NaN</td>\n",
       "    </tr>\n",
       "    <tr>\n",
       "      <th>3</th>\n",
       "      <td>1489599590</td>\n",
       "      <td>Season</td>\n",
       "      <td>CLT21HOU</td>\n",
       "      <td>2021-10-17</td>\n",
       "      <td>21FS</td>\n",
       "      <td>Not Comp</td>\n",
       "      <td>101</td>\n",
       "      <td>10</td>\n",
       "      <td>12</td>\n",
       "      <td>FR</td>\n",
       "      <td>...</td>\n",
       "      <td>101-10-12</td>\n",
       "      <td>2021</td>\n",
       "      <td>NaN</td>\n",
       "      <td>4.0</td>\n",
       "      <td>CLT21HOU-101-10-12</td>\n",
       "      <td>Yes</td>\n",
       "      <td>NaN</td>\n",
       "      <td>NaN</td>\n",
       "      <td>NaN</td>\n",
       "      <td>NaN</td>\n",
       "    </tr>\n",
       "    <tr>\n",
       "      <th>4</th>\n",
       "      <td>115101990</td>\n",
       "      <td>Season</td>\n",
       "      <td>CLT21HOU</td>\n",
       "      <td>2021-10-17</td>\n",
       "      <td>21FS</td>\n",
       "      <td>Not Comp</td>\n",
       "      <td>101</td>\n",
       "      <td>10</td>\n",
       "      <td>13</td>\n",
       "      <td>FR</td>\n",
       "      <td>...</td>\n",
       "      <td>101-10-13</td>\n",
       "      <td>2021</td>\n",
       "      <td>NaN</td>\n",
       "      <td>32.0</td>\n",
       "      <td>CLT21HOU-101-10-13</td>\n",
       "      <td>No</td>\n",
       "      <td>NaN</td>\n",
       "      <td>NaN</td>\n",
       "      <td>NaN</td>\n",
       "      <td>NaN</td>\n",
       "    </tr>\n",
       "  </tbody>\n",
       "</table>\n",
       "<p>5 rows × 34 columns</p>\n",
       "</div>"
      ],
      "text/plain": [
       "      acct_id acct_type_desc event_name  event_date plan_event_name comp_name  \\\n",
       "0   117948790         Season   CLT21HOU  2021-10-17            21FS  Not Comp   \n",
       "1   126665090         Season   CLT21HOU  2021-10-17            21FS  Not Comp   \n",
       "2   126665090         Season   CLT21HOU  2021-10-17            21FS  Not Comp   \n",
       "3  1489599590         Season   CLT21HOU  2021-10-17            21FS  Not Comp   \n",
       "4   115101990         Season   CLT21HOU  2021-10-17            21FS  Not Comp   \n",
       "\n",
       "   section_name row_name  SeatNum price_code  ... SeatUniqueID  Season  \\\n",
       "0           101       10        1         FR  ...     101-10-1    2021   \n",
       "1           101       10       10         FR  ...    101-10-10    2021   \n",
       "2           101       10       11         FR  ...    101-10-11    2021   \n",
       "3           101       10       12         FR  ...    101-10-12    2021   \n",
       "4           101       10       13         FR  ...    101-10-13    2021   \n",
       "\n",
       "  ClubExpYear Tenure            UniqueID isAttended  Resold  ResalePrice  \\\n",
       "0         NaN   25.0   CLT21HOU-101-10-1        Yes     NaN          NaN   \n",
       "1         NaN   20.0  CLT21HOU-101-10-10         No     NaN          NaN   \n",
       "2         NaN   20.0  CLT21HOU-101-10-11         No     NaN          NaN   \n",
       "3         NaN    4.0  CLT21HOU-101-10-12        Yes     NaN          NaN   \n",
       "4         NaN   32.0  CLT21HOU-101-10-13         No     NaN          NaN   \n",
       "\n",
       "  ResaleDate isSTM  \n",
       "0        NaN   NaN  \n",
       "1        NaN   NaN  \n",
       "2        NaN   NaN  \n",
       "3        NaN   NaN  \n",
       "4        NaN   NaN  \n",
       "\n",
       "[5 rows x 34 columns]"
      ]
     },
     "execution_count": 3,
     "metadata": {},
     "output_type": "execute_result"
    }
   ],
   "source": [
    "df = pd.read_csv('train_data_nolog_pc.csv.csv')\n",
    "df.head()"
   ]
  },
  {
   "cell_type": "markdown",
   "id": "8d5d8228",
   "metadata": {},
   "source": [
    "### Handling Null values in Categorical Columns"
   ]
  },
  {
   "cell_type": "code",
   "execution_count": 88,
   "id": "3d7089f7",
   "metadata": {},
   "outputs": [],
   "source": [
    "from feature_engine.imputation import CategoricalImputer\n",
    "imputer = CategoricalImputer(variables=['comp_name','paid'])"
   ]
  },
  {
   "cell_type": "code",
   "execution_count": 89,
   "id": "b9115212",
   "metadata": {},
   "outputs": [],
   "source": [
    "df1 = df.copy()"
   ]
  },
  {
   "cell_type": "code",
   "execution_count": 90,
   "id": "a9781d17",
   "metadata": {},
   "outputs": [
    {
     "data": {
      "text/html": [
       "<div>\n",
       "<style scoped>\n",
       "    .dataframe tbody tr th:only-of-type {\n",
       "        vertical-align: middle;\n",
       "    }\n",
       "\n",
       "    .dataframe tbody tr th {\n",
       "        vertical-align: top;\n",
       "    }\n",
       "\n",
       "    .dataframe thead th {\n",
       "        text-align: right;\n",
       "    }\n",
       "</style>\n",
       "<table border=\"1\" class=\"dataframe\">\n",
       "  <thead>\n",
       "    <tr style=\"text-align: right;\">\n",
       "      <th></th>\n",
       "      <th>acct_id</th>\n",
       "      <th>acct_type_desc</th>\n",
       "      <th>event_name</th>\n",
       "      <th>event_date</th>\n",
       "      <th>plan_event_name</th>\n",
       "      <th>comp_name</th>\n",
       "      <th>section_name</th>\n",
       "      <th>row_name</th>\n",
       "      <th>SeatNum</th>\n",
       "      <th>price_code</th>\n",
       "      <th>...</th>\n",
       "      <th>price_code_mod</th>\n",
       "      <th>lagged</th>\n",
       "      <th>between_event_date</th>\n",
       "      <th>event_date_month</th>\n",
       "      <th>event_date_weekday</th>\n",
       "      <th>event_holiday_or_not</th>\n",
       "      <th>Section_Name_based_on_price</th>\n",
       "      <th>comp_name_group</th>\n",
       "      <th>event_date_day</th>\n",
       "      <th>isEndMonth</th>\n",
       "    </tr>\n",
       "  </thead>\n",
       "  <tbody>\n",
       "    <tr>\n",
       "      <th>0</th>\n",
       "      <td>117948790</td>\n",
       "      <td>Season</td>\n",
       "      <td>CLT21HOU</td>\n",
       "      <td>2021-10-17</td>\n",
       "      <td>FS</td>\n",
       "      <td>Not Comp</td>\n",
       "      <td>101</td>\n",
       "      <td>10</td>\n",
       "      <td>1</td>\n",
       "      <td>FR</td>\n",
       "      <td>...</td>\n",
       "      <td>R</td>\n",
       "      <td>0</td>\n",
       "      <td>18917</td>\n",
       "      <td>10</td>\n",
       "      <td>6</td>\n",
       "      <td>False</td>\n",
       "      <td>Yellow</td>\n",
       "      <td>0</td>\n",
       "      <td>17</td>\n",
       "      <td>1</td>\n",
       "    </tr>\n",
       "    <tr>\n",
       "      <th>1</th>\n",
       "      <td>126665090</td>\n",
       "      <td>Season</td>\n",
       "      <td>CLT21HOU</td>\n",
       "      <td>2021-10-17</td>\n",
       "      <td>FS</td>\n",
       "      <td>Not Comp</td>\n",
       "      <td>101</td>\n",
       "      <td>10</td>\n",
       "      <td>10</td>\n",
       "      <td>FR</td>\n",
       "      <td>...</td>\n",
       "      <td>R</td>\n",
       "      <td>0</td>\n",
       "      <td>18917</td>\n",
       "      <td>10</td>\n",
       "      <td>6</td>\n",
       "      <td>False</td>\n",
       "      <td>Yellow</td>\n",
       "      <td>0</td>\n",
       "      <td>17</td>\n",
       "      <td>1</td>\n",
       "    </tr>\n",
       "    <tr>\n",
       "      <th>2</th>\n",
       "      <td>126665090</td>\n",
       "      <td>Season</td>\n",
       "      <td>CLT21HOU</td>\n",
       "      <td>2021-10-17</td>\n",
       "      <td>FS</td>\n",
       "      <td>Not Comp</td>\n",
       "      <td>101</td>\n",
       "      <td>10</td>\n",
       "      <td>11</td>\n",
       "      <td>FR</td>\n",
       "      <td>...</td>\n",
       "      <td>R</td>\n",
       "      <td>2021-10-17</td>\n",
       "      <td>0</td>\n",
       "      <td>10</td>\n",
       "      <td>6</td>\n",
       "      <td>False</td>\n",
       "      <td>Yellow</td>\n",
       "      <td>0</td>\n",
       "      <td>17</td>\n",
       "      <td>1</td>\n",
       "    </tr>\n",
       "    <tr>\n",
       "      <th>3</th>\n",
       "      <td>1489599590</td>\n",
       "      <td>Season</td>\n",
       "      <td>CLT21HOU</td>\n",
       "      <td>2021-10-17</td>\n",
       "      <td>FS</td>\n",
       "      <td>Not Comp</td>\n",
       "      <td>101</td>\n",
       "      <td>10</td>\n",
       "      <td>12</td>\n",
       "      <td>FR</td>\n",
       "      <td>...</td>\n",
       "      <td>R</td>\n",
       "      <td>0</td>\n",
       "      <td>18917</td>\n",
       "      <td>10</td>\n",
       "      <td>6</td>\n",
       "      <td>False</td>\n",
       "      <td>Yellow</td>\n",
       "      <td>0</td>\n",
       "      <td>17</td>\n",
       "      <td>1</td>\n",
       "    </tr>\n",
       "    <tr>\n",
       "      <th>4</th>\n",
       "      <td>115101990</td>\n",
       "      <td>Season</td>\n",
       "      <td>CLT21HOU</td>\n",
       "      <td>2021-10-17</td>\n",
       "      <td>FS</td>\n",
       "      <td>Not Comp</td>\n",
       "      <td>101</td>\n",
       "      <td>10</td>\n",
       "      <td>13</td>\n",
       "      <td>FR</td>\n",
       "      <td>...</td>\n",
       "      <td>R</td>\n",
       "      <td>0</td>\n",
       "      <td>18917</td>\n",
       "      <td>10</td>\n",
       "      <td>6</td>\n",
       "      <td>False</td>\n",
       "      <td>Yellow</td>\n",
       "      <td>0</td>\n",
       "      <td>17</td>\n",
       "      <td>1</td>\n",
       "    </tr>\n",
       "    <tr>\n",
       "      <th>...</th>\n",
       "      <td>...</td>\n",
       "      <td>...</td>\n",
       "      <td>...</td>\n",
       "      <td>...</td>\n",
       "      <td>...</td>\n",
       "      <td>...</td>\n",
       "      <td>...</td>\n",
       "      <td>...</td>\n",
       "      <td>...</td>\n",
       "      <td>...</td>\n",
       "      <td>...</td>\n",
       "      <td>...</td>\n",
       "      <td>...</td>\n",
       "      <td>...</td>\n",
       "      <td>...</td>\n",
       "      <td>...</td>\n",
       "      <td>...</td>\n",
       "      <td>...</td>\n",
       "      <td>...</td>\n",
       "      <td>...</td>\n",
       "      <td>...</td>\n",
       "    </tr>\n",
       "    <tr>\n",
       "      <th>1158223</th>\n",
       "      <td>1831131890</td>\n",
       "      <td>Season</td>\n",
       "      <td>CLT22WAS</td>\n",
       "      <td>2022-10-30</td>\n",
       "      <td>FS</td>\n",
       "      <td>Not Comp</td>\n",
       "      <td>646</td>\n",
       "      <td>9</td>\n",
       "      <td>5</td>\n",
       "      <td>RN</td>\n",
       "      <td>...</td>\n",
       "      <td>N</td>\n",
       "      <td>2022-10-30</td>\n",
       "      <td>0</td>\n",
       "      <td>10</td>\n",
       "      <td>6</td>\n",
       "      <td>False</td>\n",
       "      <td>Violetish_red</td>\n",
       "      <td>0</td>\n",
       "      <td>30</td>\n",
       "      <td>0</td>\n",
       "    </tr>\n",
       "    <tr>\n",
       "      <th>1158224</th>\n",
       "      <td>1831131890</td>\n",
       "      <td>Season</td>\n",
       "      <td>CLT22WAS</td>\n",
       "      <td>2022-10-30</td>\n",
       "      <td>FS</td>\n",
       "      <td>Not Comp</td>\n",
       "      <td>646</td>\n",
       "      <td>9</td>\n",
       "      <td>6</td>\n",
       "      <td>RN</td>\n",
       "      <td>...</td>\n",
       "      <td>N</td>\n",
       "      <td>2022-10-30</td>\n",
       "      <td>0</td>\n",
       "      <td>10</td>\n",
       "      <td>6</td>\n",
       "      <td>False</td>\n",
       "      <td>Violetish_red</td>\n",
       "      <td>0</td>\n",
       "      <td>30</td>\n",
       "      <td>0</td>\n",
       "    </tr>\n",
       "    <tr>\n",
       "      <th>1158225</th>\n",
       "      <td>1246180690</td>\n",
       "      <td>Sponsor</td>\n",
       "      <td>CLT22WAS</td>\n",
       "      <td>2022-10-30</td>\n",
       "      <td>FS8</td>\n",
       "      <td>Not Comp</td>\n",
       "      <td>646</td>\n",
       "      <td>9</td>\n",
       "      <td>7</td>\n",
       "      <td>RR</td>\n",
       "      <td>...</td>\n",
       "      <td>R</td>\n",
       "      <td>2022-10-30</td>\n",
       "      <td>0</td>\n",
       "      <td>10</td>\n",
       "      <td>6</td>\n",
       "      <td>False</td>\n",
       "      <td>Violetish_red</td>\n",
       "      <td>0</td>\n",
       "      <td>30</td>\n",
       "      <td>0</td>\n",
       "    </tr>\n",
       "    <tr>\n",
       "      <th>1158226</th>\n",
       "      <td>1246180690</td>\n",
       "      <td>Sponsor</td>\n",
       "      <td>CLT22WAS</td>\n",
       "      <td>2022-10-30</td>\n",
       "      <td>FS8</td>\n",
       "      <td>Not Comp</td>\n",
       "      <td>646</td>\n",
       "      <td>9</td>\n",
       "      <td>8</td>\n",
       "      <td>RR</td>\n",
       "      <td>...</td>\n",
       "      <td>R</td>\n",
       "      <td>2022-10-30</td>\n",
       "      <td>0</td>\n",
       "      <td>10</td>\n",
       "      <td>6</td>\n",
       "      <td>False</td>\n",
       "      <td>Violetish_red</td>\n",
       "      <td>0</td>\n",
       "      <td>30</td>\n",
       "      <td>0</td>\n",
       "    </tr>\n",
       "    <tr>\n",
       "      <th>1158227</th>\n",
       "      <td>1246180690</td>\n",
       "      <td>Sponsor</td>\n",
       "      <td>CLT22WAS</td>\n",
       "      <td>2022-10-30</td>\n",
       "      <td>FS8</td>\n",
       "      <td>Not Comp</td>\n",
       "      <td>646</td>\n",
       "      <td>9</td>\n",
       "      <td>9</td>\n",
       "      <td>RR</td>\n",
       "      <td>...</td>\n",
       "      <td>R</td>\n",
       "      <td>2022-10-30</td>\n",
       "      <td>0</td>\n",
       "      <td>10</td>\n",
       "      <td>6</td>\n",
       "      <td>False</td>\n",
       "      <td>Violetish_red</td>\n",
       "      <td>0</td>\n",
       "      <td>30</td>\n",
       "      <td>0</td>\n",
       "    </tr>\n",
       "  </tbody>\n",
       "</table>\n",
       "<p>1158228 rows × 49 columns</p>\n",
       "</div>"
      ],
      "text/plain": [
       "            acct_id acct_type_desc event_name event_date plan_event_name  \\\n",
       "0         117948790         Season   CLT21HOU 2021-10-17              FS   \n",
       "1         126665090         Season   CLT21HOU 2021-10-17              FS   \n",
       "2         126665090         Season   CLT21HOU 2021-10-17              FS   \n",
       "3        1489599590         Season   CLT21HOU 2021-10-17              FS   \n",
       "4         115101990         Season   CLT21HOU 2021-10-17              FS   \n",
       "...             ...            ...        ...        ...             ...   \n",
       "1158223  1831131890         Season   CLT22WAS 2022-10-30              FS   \n",
       "1158224  1831131890         Season   CLT22WAS 2022-10-30              FS   \n",
       "1158225  1246180690        Sponsor   CLT22WAS 2022-10-30             FS8   \n",
       "1158226  1246180690        Sponsor   CLT22WAS 2022-10-30             FS8   \n",
       "1158227  1246180690        Sponsor   CLT22WAS 2022-10-30             FS8   \n",
       "\n",
       "        comp_name  section_name row_name  SeatNum price_code  ...  \\\n",
       "0        Not Comp           101       10        1         FR  ...   \n",
       "1        Not Comp           101       10       10         FR  ...   \n",
       "2        Not Comp           101       10       11         FR  ...   \n",
       "3        Not Comp           101       10       12         FR  ...   \n",
       "4        Not Comp           101       10       13         FR  ...   \n",
       "...           ...           ...      ...      ...        ...  ...   \n",
       "1158223  Not Comp           646        9        5         RN  ...   \n",
       "1158224  Not Comp           646        9        6         RN  ...   \n",
       "1158225  Not Comp           646        9        7         RR  ...   \n",
       "1158226  Not Comp           646        9        8         RR  ...   \n",
       "1158227  Not Comp           646        9        9         RR  ...   \n",
       "\n",
       "        price_code_mod      lagged between_event_date event_date_month  \\\n",
       "0                    R           0              18917               10   \n",
       "1                    R           0              18917               10   \n",
       "2                    R  2021-10-17                  0               10   \n",
       "3                    R           0              18917               10   \n",
       "4                    R           0              18917               10   \n",
       "...                ...         ...                ...              ...   \n",
       "1158223              N  2022-10-30                  0               10   \n",
       "1158224              N  2022-10-30                  0               10   \n",
       "1158225              R  2022-10-30                  0               10   \n",
       "1158226              R  2022-10-30                  0               10   \n",
       "1158227              R  2022-10-30                  0               10   \n",
       "\n",
       "        event_date_weekday event_holiday_or_not  Section_Name_based_on_price  \\\n",
       "0                        6                False                       Yellow   \n",
       "1                        6                False                       Yellow   \n",
       "2                        6                False                       Yellow   \n",
       "3                        6                False                       Yellow   \n",
       "4                        6                False                       Yellow   \n",
       "...                    ...                  ...                          ...   \n",
       "1158223                  6                False                Violetish_red   \n",
       "1158224                  6                False                Violetish_red   \n",
       "1158225                  6                False                Violetish_red   \n",
       "1158226                  6                False                Violetish_red   \n",
       "1158227                  6                False                Violetish_red   \n",
       "\n",
       "         comp_name_group event_date_day isEndMonth  \n",
       "0                      0             17          1  \n",
       "1                      0             17          1  \n",
       "2                      0             17          1  \n",
       "3                      0             17          1  \n",
       "4                      0             17          1  \n",
       "...                  ...            ...        ...  \n",
       "1158223                0             30          0  \n",
       "1158224                0             30          0  \n",
       "1158225                0             30          0  \n",
       "1158226                0             30          0  \n",
       "1158227                0             30          0  \n",
       "\n",
       "[1158228 rows x 49 columns]"
      ]
     },
     "execution_count": 90,
     "metadata": {},
     "output_type": "execute_result"
    }
   ],
   "source": [
    "imputer.fit(df1)\n",
    "x= imputer.transform(df1)\n",
    "x"
   ]
  },
  {
   "cell_type": "code",
   "execution_count": 91,
   "id": "ffb3dbba",
   "metadata": {},
   "outputs": [
    {
     "data": {
      "text/plain": [
       "acct_id                        0\n",
       "acct_type_desc                 0\n",
       "event_name                     0\n",
       "event_date                     0\n",
       "plan_event_name                0\n",
       "                              ..\n",
       "event_holiday_or_not           0\n",
       "Section_Name_based_on_price    0\n",
       "comp_name_group                0\n",
       "event_date_day                 0\n",
       "isEndMonth                     0\n",
       "Length: 49, dtype: int64"
      ]
     },
     "execution_count": 91,
     "metadata": {},
     "output_type": "execute_result"
    }
   ],
   "source": [
    "df=x.copy()\n",
    "df.isnull().sum()"
   ]
  },
  {
   "cell_type": "code",
   "execution_count": 92,
   "id": "50dcb2b4",
   "metadata": {},
   "outputs": [],
   "source": [
    "df['sales_crc_encode'] = df['Sales_Source'].apply(lambda x: 1 if (x >0) else 0)"
   ]
  },
  {
   "cell_type": "code",
   "execution_count": 94,
   "id": "32a2a4aa",
   "metadata": {},
   "outputs": [
    {
     "data": {
      "text/plain": [
       "acct_id                        0\n",
       "acct_type_desc                 0\n",
       "event_name                     0\n",
       "event_date                     0\n",
       "plan_event_name                0\n",
       "                              ..\n",
       "Section_Name_based_on_price    0\n",
       "comp_name_group                0\n",
       "event_date_day                 0\n",
       "isEndMonth                     0\n",
       "sales_crc_encode               0\n",
       "Length: 46, dtype: int64"
      ]
     },
     "execution_count": 94,
     "metadata": {},
     "output_type": "execute_result"
    }
   ],
   "source": [
    "df.drop(columns=['Sales_Source','Start Year','LastYear','ClubExpYear'],inplace=True)\n",
    "df.isnull().sum()"
   ]
  },
  {
   "cell_type": "code",
   "execution_count": 95,
   "id": "b8fe0eaf",
   "metadata": {},
   "outputs": [
    {
     "data": {
      "text/html": [
       "<div>\n",
       "<style scoped>\n",
       "    .dataframe tbody tr th:only-of-type {\n",
       "        vertical-align: middle;\n",
       "    }\n",
       "\n",
       "    .dataframe tbody tr th {\n",
       "        vertical-align: top;\n",
       "    }\n",
       "\n",
       "    .dataframe thead th {\n",
       "        text-align: right;\n",
       "    }\n",
       "</style>\n",
       "<table border=\"1\" class=\"dataframe\">\n",
       "  <thead>\n",
       "    <tr style=\"text-align: right;\">\n",
       "      <th></th>\n",
       "      <th>acct_id</th>\n",
       "      <th>acct_type_desc</th>\n",
       "      <th>event_name</th>\n",
       "      <th>event_date</th>\n",
       "      <th>plan_event_name</th>\n",
       "      <th>comp_name</th>\n",
       "      <th>section_name</th>\n",
       "      <th>row_name</th>\n",
       "      <th>SeatNum</th>\n",
       "      <th>price_code</th>\n",
       "      <th>...</th>\n",
       "      <th>lagged</th>\n",
       "      <th>between_event_date</th>\n",
       "      <th>event_date_month</th>\n",
       "      <th>event_date_weekday</th>\n",
       "      <th>event_holiday_or_not</th>\n",
       "      <th>Section_Name_based_on_price</th>\n",
       "      <th>comp_name_group</th>\n",
       "      <th>event_date_day</th>\n",
       "      <th>isEndMonth</th>\n",
       "      <th>sales_crc_encode</th>\n",
       "    </tr>\n",
       "  </thead>\n",
       "  <tbody>\n",
       "    <tr>\n",
       "      <th>7108</th>\n",
       "      <td>1738241190</td>\n",
       "      <td>Season</td>\n",
       "      <td>CLT21HOU</td>\n",
       "      <td>2021-10-17</td>\n",
       "      <td>FS</td>\n",
       "      <td>Not Comp</td>\n",
       "      <td>117</td>\n",
       "      <td>22</td>\n",
       "      <td>17</td>\n",
       "      <td>B</td>\n",
       "      <td>...</td>\n",
       "      <td>0</td>\n",
       "      <td>18917</td>\n",
       "      <td>10</td>\n",
       "      <td>6</td>\n",
       "      <td>False</td>\n",
       "      <td>Lambert</td>\n",
       "      <td>0</td>\n",
       "      <td>17</td>\n",
       "      <td>1</td>\n",
       "      <td>0</td>\n",
       "    </tr>\n",
       "    <tr>\n",
       "      <th>7109</th>\n",
       "      <td>1738241190</td>\n",
       "      <td>Season</td>\n",
       "      <td>CLT21HOU</td>\n",
       "      <td>2021-10-17</td>\n",
       "      <td>FS</td>\n",
       "      <td>Not Comp</td>\n",
       "      <td>117</td>\n",
       "      <td>22</td>\n",
       "      <td>18</td>\n",
       "      <td>B</td>\n",
       "      <td>...</td>\n",
       "      <td>2021-10-17</td>\n",
       "      <td>0</td>\n",
       "      <td>10</td>\n",
       "      <td>6</td>\n",
       "      <td>False</td>\n",
       "      <td>Lambert</td>\n",
       "      <td>0</td>\n",
       "      <td>17</td>\n",
       "      <td>1</td>\n",
       "      <td>0</td>\n",
       "    </tr>\n",
       "    <tr>\n",
       "      <th>7110</th>\n",
       "      <td>1738241190</td>\n",
       "      <td>Season</td>\n",
       "      <td>CLT21HOU</td>\n",
       "      <td>2021-10-17</td>\n",
       "      <td>FS</td>\n",
       "      <td>Not Comp</td>\n",
       "      <td>117</td>\n",
       "      <td>22</td>\n",
       "      <td>19</td>\n",
       "      <td>B</td>\n",
       "      <td>...</td>\n",
       "      <td>2021-10-17</td>\n",
       "      <td>0</td>\n",
       "      <td>10</td>\n",
       "      <td>6</td>\n",
       "      <td>False</td>\n",
       "      <td>Lambert</td>\n",
       "      <td>0</td>\n",
       "      <td>17</td>\n",
       "      <td>1</td>\n",
       "      <td>0</td>\n",
       "    </tr>\n",
       "    <tr>\n",
       "      <th>7112</th>\n",
       "      <td>1738241190</td>\n",
       "      <td>Season</td>\n",
       "      <td>CLT21HOU</td>\n",
       "      <td>2021-10-17</td>\n",
       "      <td>FS</td>\n",
       "      <td>Not Comp</td>\n",
       "      <td>117</td>\n",
       "      <td>22</td>\n",
       "      <td>20</td>\n",
       "      <td>B</td>\n",
       "      <td>...</td>\n",
       "      <td>2021-10-17</td>\n",
       "      <td>0</td>\n",
       "      <td>10</td>\n",
       "      <td>6</td>\n",
       "      <td>False</td>\n",
       "      <td>Lambert</td>\n",
       "      <td>0</td>\n",
       "      <td>17</td>\n",
       "      <td>1</td>\n",
       "      <td>0</td>\n",
       "    </tr>\n",
       "    <tr>\n",
       "      <th>7113</th>\n",
       "      <td>1738241190</td>\n",
       "      <td>Season</td>\n",
       "      <td>CLT21HOU</td>\n",
       "      <td>2021-10-17</td>\n",
       "      <td>FS</td>\n",
       "      <td>Not Comp</td>\n",
       "      <td>117</td>\n",
       "      <td>22</td>\n",
       "      <td>21</td>\n",
       "      <td>B</td>\n",
       "      <td>...</td>\n",
       "      <td>2021-10-17</td>\n",
       "      <td>0</td>\n",
       "      <td>10</td>\n",
       "      <td>6</td>\n",
       "      <td>False</td>\n",
       "      <td>Lambert</td>\n",
       "      <td>0</td>\n",
       "      <td>17</td>\n",
       "      <td>1</td>\n",
       "      <td>0</td>\n",
       "    </tr>\n",
       "    <tr>\n",
       "      <th>...</th>\n",
       "      <td>...</td>\n",
       "      <td>...</td>\n",
       "      <td>...</td>\n",
       "      <td>...</td>\n",
       "      <td>...</td>\n",
       "      <td>...</td>\n",
       "      <td>...</td>\n",
       "      <td>...</td>\n",
       "      <td>...</td>\n",
       "      <td>...</td>\n",
       "      <td>...</td>\n",
       "      <td>...</td>\n",
       "      <td>...</td>\n",
       "      <td>...</td>\n",
       "      <td>...</td>\n",
       "      <td>...</td>\n",
       "      <td>...</td>\n",
       "      <td>...</td>\n",
       "      <td>...</td>\n",
       "      <td>...</td>\n",
       "      <td>...</td>\n",
       "    </tr>\n",
       "    <tr>\n",
       "      <th>1158207</th>\n",
       "      <td>1831131890</td>\n",
       "      <td>Season</td>\n",
       "      <td>CLT22WAS</td>\n",
       "      <td>2022-10-30</td>\n",
       "      <td>FS</td>\n",
       "      <td>Not Comp</td>\n",
       "      <td>646</td>\n",
       "      <td>8</td>\n",
       "      <td>3</td>\n",
       "      <td>RN</td>\n",
       "      <td>...</td>\n",
       "      <td>2022-10-02</td>\n",
       "      <td>28</td>\n",
       "      <td>10</td>\n",
       "      <td>6</td>\n",
       "      <td>False</td>\n",
       "      <td>Violetish_red</td>\n",
       "      <td>0</td>\n",
       "      <td>30</td>\n",
       "      <td>0</td>\n",
       "      <td>0</td>\n",
       "    </tr>\n",
       "    <tr>\n",
       "      <th>1158208</th>\n",
       "      <td>1831131890</td>\n",
       "      <td>Season</td>\n",
       "      <td>CLT22WAS</td>\n",
       "      <td>2022-10-30</td>\n",
       "      <td>FS</td>\n",
       "      <td>Not Comp</td>\n",
       "      <td>646</td>\n",
       "      <td>8</td>\n",
       "      <td>4</td>\n",
       "      <td>RN</td>\n",
       "      <td>...</td>\n",
       "      <td>2022-10-30</td>\n",
       "      <td>0</td>\n",
       "      <td>10</td>\n",
       "      <td>6</td>\n",
       "      <td>False</td>\n",
       "      <td>Violetish_red</td>\n",
       "      <td>0</td>\n",
       "      <td>30</td>\n",
       "      <td>0</td>\n",
       "      <td>0</td>\n",
       "    </tr>\n",
       "    <tr>\n",
       "      <th>1158222</th>\n",
       "      <td>1831131890</td>\n",
       "      <td>Season</td>\n",
       "      <td>CLT22WAS</td>\n",
       "      <td>2022-10-30</td>\n",
       "      <td>FS</td>\n",
       "      <td>Not Comp</td>\n",
       "      <td>646</td>\n",
       "      <td>9</td>\n",
       "      <td>4</td>\n",
       "      <td>RN</td>\n",
       "      <td>...</td>\n",
       "      <td>2022-10-30</td>\n",
       "      <td>0</td>\n",
       "      <td>10</td>\n",
       "      <td>6</td>\n",
       "      <td>False</td>\n",
       "      <td>Violetish_red</td>\n",
       "      <td>0</td>\n",
       "      <td>30</td>\n",
       "      <td>0</td>\n",
       "      <td>0</td>\n",
       "    </tr>\n",
       "    <tr>\n",
       "      <th>1158223</th>\n",
       "      <td>1831131890</td>\n",
       "      <td>Season</td>\n",
       "      <td>CLT22WAS</td>\n",
       "      <td>2022-10-30</td>\n",
       "      <td>FS</td>\n",
       "      <td>Not Comp</td>\n",
       "      <td>646</td>\n",
       "      <td>9</td>\n",
       "      <td>5</td>\n",
       "      <td>RN</td>\n",
       "      <td>...</td>\n",
       "      <td>2022-10-30</td>\n",
       "      <td>0</td>\n",
       "      <td>10</td>\n",
       "      <td>6</td>\n",
       "      <td>False</td>\n",
       "      <td>Violetish_red</td>\n",
       "      <td>0</td>\n",
       "      <td>30</td>\n",
       "      <td>0</td>\n",
       "      <td>0</td>\n",
       "    </tr>\n",
       "    <tr>\n",
       "      <th>1158224</th>\n",
       "      <td>1831131890</td>\n",
       "      <td>Season</td>\n",
       "      <td>CLT22WAS</td>\n",
       "      <td>2022-10-30</td>\n",
       "      <td>FS</td>\n",
       "      <td>Not Comp</td>\n",
       "      <td>646</td>\n",
       "      <td>9</td>\n",
       "      <td>6</td>\n",
       "      <td>RN</td>\n",
       "      <td>...</td>\n",
       "      <td>2022-10-30</td>\n",
       "      <td>0</td>\n",
       "      <td>10</td>\n",
       "      <td>6</td>\n",
       "      <td>False</td>\n",
       "      <td>Violetish_red</td>\n",
       "      <td>0</td>\n",
       "      <td>30</td>\n",
       "      <td>0</td>\n",
       "      <td>0</td>\n",
       "    </tr>\n",
       "  </tbody>\n",
       "</table>\n",
       "<p>130024 rows × 46 columns</p>\n",
       "</div>"
      ],
      "text/plain": [
       "            acct_id acct_type_desc event_name event_date plan_event_name  \\\n",
       "7108     1738241190         Season   CLT21HOU 2021-10-17              FS   \n",
       "7109     1738241190         Season   CLT21HOU 2021-10-17              FS   \n",
       "7110     1738241190         Season   CLT21HOU 2021-10-17              FS   \n",
       "7112     1738241190         Season   CLT21HOU 2021-10-17              FS   \n",
       "7113     1738241190         Season   CLT21HOU 2021-10-17              FS   \n",
       "...             ...            ...        ...        ...             ...   \n",
       "1158207  1831131890         Season   CLT22WAS 2022-10-30              FS   \n",
       "1158208  1831131890         Season   CLT22WAS 2022-10-30              FS   \n",
       "1158222  1831131890         Season   CLT22WAS 2022-10-30              FS   \n",
       "1158223  1831131890         Season   CLT22WAS 2022-10-30              FS   \n",
       "1158224  1831131890         Season   CLT22WAS 2022-10-30              FS   \n",
       "\n",
       "        comp_name  section_name row_name  SeatNum price_code  ...      lagged  \\\n",
       "7108     Not Comp           117       22       17          B  ...           0   \n",
       "7109     Not Comp           117       22       18          B  ...  2021-10-17   \n",
       "7110     Not Comp           117       22       19          B  ...  2021-10-17   \n",
       "7112     Not Comp           117       22       20          B  ...  2021-10-17   \n",
       "7113     Not Comp           117       22       21          B  ...  2021-10-17   \n",
       "...           ...           ...      ...      ...        ...  ...         ...   \n",
       "1158207  Not Comp           646        8        3         RN  ...  2022-10-02   \n",
       "1158208  Not Comp           646        8        4         RN  ...  2022-10-30   \n",
       "1158222  Not Comp           646        9        4         RN  ...  2022-10-30   \n",
       "1158223  Not Comp           646        9        5         RN  ...  2022-10-30   \n",
       "1158224  Not Comp           646        9        6         RN  ...  2022-10-30   \n",
       "\n",
       "         between_event_date event_date_month event_date_weekday  \\\n",
       "7108                  18917               10                  6   \n",
       "7109                      0               10                  6   \n",
       "7110                      0               10                  6   \n",
       "7112                      0               10                  6   \n",
       "7113                      0               10                  6   \n",
       "...                     ...              ...                ...   \n",
       "1158207                  28               10                  6   \n",
       "1158208                   0               10                  6   \n",
       "1158222                   0               10                  6   \n",
       "1158223                   0               10                  6   \n",
       "1158224                   0               10                  6   \n",
       "\n",
       "        event_holiday_or_not Section_Name_based_on_price  comp_name_group  \\\n",
       "7108                   False                     Lambert                0   \n",
       "7109                   False                     Lambert                0   \n",
       "7110                   False                     Lambert                0   \n",
       "7112                   False                     Lambert                0   \n",
       "7113                   False                     Lambert                0   \n",
       "...                      ...                         ...              ...   \n",
       "1158207                False               Violetish_red                0   \n",
       "1158208                False               Violetish_red                0   \n",
       "1158222                False               Violetish_red                0   \n",
       "1158223                False               Violetish_red                0   \n",
       "1158224                False               Violetish_red                0   \n",
       "\n",
       "        event_date_day isEndMonth  sales_crc_encode  \n",
       "7108                17          1                 0  \n",
       "7109                17          1                 0  \n",
       "7110                17          1                 0  \n",
       "7112                17          1                 0  \n",
       "7113                17          1                 0  \n",
       "...                ...        ...               ...  \n",
       "1158207             30          0                 0  \n",
       "1158208             30          0                 0  \n",
       "1158222             30          0                 0  \n",
       "1158223             30          0                 0  \n",
       "1158224             30          0                 0  \n",
       "\n",
       "[130024 rows x 46 columns]"
      ]
     },
     "execution_count": 95,
     "metadata": {},
     "output_type": "execute_result"
    }
   ],
   "source": [
    "df[df['Tenure']==0]"
   ]
  },
  {
   "cell_type": "markdown",
   "id": "618188b0",
   "metadata": {},
   "source": [
    "## Replacing null values with 0"
   ]
  },
  {
   "cell_type": "code",
   "execution_count": 96,
   "id": "2fa0ccc6",
   "metadata": {},
   "outputs": [
    {
     "data": {
      "text/plain": [
       "acct_id                        0\n",
       "acct_type_desc                 0\n",
       "event_name                     0\n",
       "event_date                     0\n",
       "plan_event_name                0\n",
       "                              ..\n",
       "Section_Name_based_on_price    0\n",
       "comp_name_group                0\n",
       "event_date_day                 0\n",
       "isEndMonth                     0\n",
       "sales_crc_encode               0\n",
       "Length: 46, dtype: int64"
      ]
     },
     "execution_count": 96,
     "metadata": {},
     "output_type": "execute_result"
    }
   ],
   "source": [
    "df['Tenure'].fillna(0,inplace=True)\n",
    "df.isnull().sum()"
   ]
  },
  {
   "cell_type": "code",
   "execution_count": 101,
   "id": "cc8483f8",
   "metadata": {},
   "outputs": [],
   "source": [
    "df['isSTM'].fillna(0,inplace=True)"
   ]
  },
  {
   "cell_type": "code",
   "execution_count": 102,
   "id": "bc8eecbb",
   "metadata": {},
   "outputs": [],
   "source": [
    "df['Term'].fillna(0,inplace=True)"
   ]
  },
  {
   "cell_type": "code",
   "execution_count": 103,
   "id": "afd03c4b",
   "metadata": {},
   "outputs": [],
   "source": [
    "df['add_datetime'].fillna(df['event_date'],inplace=True)"
   ]
  },
  {
   "cell_type": "code",
   "execution_count": 106,
   "id": "736bee07",
   "metadata": {},
   "outputs": [],
   "source": [
    "pd.set_option(\"display.max_rows\", 10)"
   ]
  },
  {
   "cell_type": "code",
   "execution_count": 113,
   "id": "053d1814",
   "metadata": {},
   "outputs": [
    {
     "data": {
      "text/plain": [
       "acct_id              0\n",
       "acct_type_desc       0\n",
       "event_name           0\n",
       "event_date           0\n",
       "plan_event_name      0\n",
       "                    ..\n",
       "comp_name_group      0\n",
       "event_date_day       0\n",
       "isEndMonth           0\n",
       "sales_crc_encode     0\n",
       "Difference_resale    0\n",
       "Length: 46, dtype: int64"
      ]
     },
     "execution_count": 113,
     "metadata": {},
     "output_type": "execute_result"
    }
   ],
   "source": [
    "df['Resold'].fillna(0, inplace=True)                               #Replacing the NaN values for Resold column with 0\n",
    "df['ResalePrice'].fillna(0, inplace=True)                          #Replacing the NaN values for ResalePrice column with 0\n",
    "df[\"Resold\"] = df[\"Resold\"].replace({'Yes':1})                     #Replacing the Yes values with 1 for Resold column\n",
    "df['Resold'] = df['Resold'].astype(int)             #Changing the datatype of the column to int\n",
    "df['ResalePrice'] = df['ResalePrice'].astype(float)\n",
    "df.drop(columns=['ResaleDate'],inplace=True)\n",
    "df.isnull().sum()#Changing the datatype of the column to Float"
   ]
  },
  {
   "cell_type": "markdown",
   "id": "21c4b82d",
   "metadata": {},
   "source": [
    "### Finding difference in resale date and event date"
   ]
  },
  {
   "cell_type": "code",
   "execution_count": 107,
   "id": "2703e502",
   "metadata": {},
   "outputs": [],
   "source": [
    "df['Difference_resale'] = (pd.to_datetime(df['event_date']) - pd.to_datetime(df['ResaleDate'])).dt.days"
   ]
  },
  {
   "cell_type": "code",
   "execution_count": 109,
   "id": "446eb923",
   "metadata": {},
   "outputs": [],
   "source": [
    "df['Difference_resale'].fillna(-1, inplace = True)"
   ]
  },
  {
   "cell_type": "code",
   "execution_count": 111,
   "id": "bc88e1dc",
   "metadata": {},
   "outputs": [],
   "source": [
    "df['Difference_resale'] = df['Difference_resale'].apply(lambda x: x if (x >=0) else -1)"
   ]
  },
  {
   "cell_type": "markdown",
   "id": "c1d3cf0d",
   "metadata": {},
   "source": [
    "### Finding the difference between event date and purchase date"
   ]
  },
  {
   "cell_type": "code",
   "execution_count": 114,
   "id": "d066422f",
   "metadata": {},
   "outputs": [],
   "source": [
    "df['Difference'] = (df['event_date'] - df['add_datetime']).dt.days"
   ]
  },
  {
   "cell_type": "code",
   "execution_count": 115,
   "id": "4a1060be",
   "metadata": {},
   "outputs": [],
   "source": [
    "df['Difference'] = df['Difference'].apply(lambda x : x if x > 0 else 0)"
   ]
  },
  {
   "cell_type": "markdown",
   "id": "bc6e1a6d",
   "metadata": {},
   "source": [
    "## Basic Visualization"
   ]
  },
  {
   "cell_type": "code",
   "execution_count": 120,
   "id": "dfc08c59",
   "metadata": {},
   "outputs": [
    {
     "data": {
      "text/plain": [
       "<AxesSubplot:xlabel='event_date_weekday', ylabel='count'>"
      ]
     },
     "execution_count": 120,
     "metadata": {},
     "output_type": "execute_result"
    },
    {
     "data": {
      "image/png": "[encoded data removed]",
      "text/plain": [
       "<Figure size 432x288 with 1 Axes>"
      ]
     },
     "metadata": {
      "needs_background": "light"
     },
     "output_type": "display_data"
    }
   ],
   "source": [
    "sns.countplot(x = df['event_date_weekday'])"
   ]
  },
  {
   "cell_type": "code",
   "execution_count": 121,
   "id": "a150d81c",
   "metadata": {},
   "outputs": [
    {
     "data": {
      "text/plain": [
       "<AxesSubplot:xlabel='plan_event_name', ylabel='count'>"
      ]
     },
     "execution_count": 121,
     "metadata": {},
     "output_type": "execute_result"
    },
    {
     "data": {
      "image/png": "[encoded data removed]",
      "text/plain": [
       "<Figure size 432x288 with 1 Axes>"
      ]
     },
     "metadata": {
      "needs_background": "light"
     },
     "output_type": "display_data"
    }
   ],
   "source": [
    "sns.countplot(x = df['plan_event_name'])"
   ]
  },
  {
   "cell_type": "code",
   "execution_count": 123,
   "id": "8c47aa1f",
   "metadata": {},
   "outputs": [
    {
     "data": {
      "text/plain": [
       "<AxesSubplot:xlabel='isHost', ylabel='count'>"
      ]
     },
     "execution_count": 123,
     "metadata": {},
     "output_type": "execute_result"
    },
    {
     "data": {
      "image/png": "[encoded data removed]",
      "text/plain": [
       "<Figure size 432x288 with 1 Axes>"
      ]
     },
     "metadata": {
      "needs_background": "light"
     },
     "output_type": "display_data"
    }
   ],
   "source": [
    "sns.countplot(x = df['isHost'])"
   ]
  },
  {
   "cell_type": "code",
   "execution_count": 124,
   "id": "881e73b8",
   "metadata": {},
   "outputs": [
    {
     "data": {
      "text/plain": [
       "1    900945\n",
       "0    257283\n",
       "Name: isAttended, dtype: int64"
      ]
     },
     "execution_count": 124,
     "metadata": {},
     "output_type": "execute_result"
    }
   ],
   "source": [
    "df['isAttended'].value_counts()"
   ]
  },
  {
   "cell_type": "code",
   "execution_count": 125,
   "id": "889b6f84",
   "metadata": {},
   "outputs": [
    {
     "data": {
      "text/plain": [
       "1    900945\n",
       "0    257283\n",
       "Name: isAttended, dtype: int64"
      ]
     },
     "execution_count": 125,
     "metadata": {},
     "output_type": "execute_result"
    }
   ],
   "source": [
    "df['isAttended'].value_counts()"
   ]
  },
  {
   "cell_type": "code",
   "execution_count": 126,
   "id": "6f40b8e5",
   "metadata": {},
   "outputs": [
    {
     "data": {
      "text/plain": [
       "<AxesSubplot:xlabel='isAttended', ylabel='count'>"
      ]
     },
     "execution_count": 126,
     "metadata": {},
     "output_type": "execute_result"
    },
    {
     "data": {
      "image/png": "[encoded data removed]",
      "text/plain": [
       "<Figure size 432x288 with 1 Axes>"
      ]
     },
     "metadata": {
      "needs_background": "light"
     },
     "output_type": "display_data"
    }
   ],
   "source": [
    "sns.countplot(x = df['isAttended'])"
   ]
  },
  {
   "cell_type": "code",
   "execution_count": 127,
   "id": "c1b4499e",
   "metadata": {},
   "outputs": [
    {
     "data": {
      "text/plain": [
       "<AxesSubplot:xlabel='isAttended', ylabel='count'>"
      ]
     },
     "execution_count": 127,
     "metadata": {},
     "output_type": "execute_result"
    },
    {
     "data": {
      "image/png": "[encoded data removed]",
      "text/plain": [
       "<Figure size 432x288 with 1 Axes>"
      ]
     },
     "metadata": {
      "needs_background": "light"
     },
     "output_type": "display_data"
    }
   ],
   "source": [
    "sns.countplot(x = df['isAttended'], hue = df['event_date_weekday'])"
   ]
  },
  {
   "cell_type": "code",
   "execution_count": 129,
   "id": "f6b22480",
   "metadata": {},
   "outputs": [],
   "source": [
    "df['event_date_weeknum'] = df['event_date'].dt.isocalendar().week"
   ]
  },
  {
   "cell_type": "code",
   "execution_count": 130,
   "id": "d755b0b5",
   "metadata": {},
   "outputs": [],
   "source": [
    "df.drop(columns = ['event_date','add_datetime'],inplace=True)"
   ]
  },
  {
   "cell_type": "markdown",
   "id": "943c9ce4",
   "metadata": {},
   "source": [
    "### Taking log transformation of numerical columns"
   ]
  },
  {
   "cell_type": "code",
   "execution_count": 140,
   "id": "8ff759c3",
   "metadata": {},
   "outputs": [
    {
     "data": {
      "text/plain": [
       "<AxesSubplot:ylabel='Frequency'>"
      ]
     },
     "execution_count": 140,
     "metadata": {},
     "output_type": "execute_result"
    },
    {
     "data": {
      "image/png": "[encoded data removed]",
      "text/plain": [
       "<Figure size 432x288 with 1 Axes>"
      ]
     },
     "metadata": {
      "needs_background": "light"
     },
     "output_type": "display_data"
    }
   ],
   "source": [
    "df['Price'].plot(kind = 'hist')"
   ]
  },
  {
   "cell_type": "markdown",
   "id": "667167f0",
   "metadata": {},
   "source": [
    "### We see that price is right skewed and hence we took log transformation"
   ]
  },
  {
   "cell_type": "code",
   "execution_count": 131,
   "id": "7bf99956",
   "metadata": {},
   "outputs": [],
   "source": [
    "df['log_price'] = np.log2(df['Price'] + 1)"
   ]
  },
  {
   "cell_type": "code",
   "execution_count": 132,
   "id": "5a1f4582",
   "metadata": {},
   "outputs": [],
   "source": [
    "df['log_tenure'] = np.log2(df['Tenure'] + 1)"
   ]
  },
  {
   "cell_type": "code",
   "execution_count": 133,
   "id": "0219de79",
   "metadata": {},
   "outputs": [
    {
     "name": "stderr",
     "output_type": "stream",
     "text": [
      "C:\\Users\\sasid\\anaconda3\\lib\\site-packages\\pandas\\core\\arraylike.py:397: RuntimeWarning: divide by zero encountered in log2\n",
      "  result = getattr(ufunc, method)(*inputs, **kwargs)\n"
     ]
    }
   ],
   "source": [
    "df['log_diff_resale'] = np.log2(df['Difference_resale'] + 1)"
   ]
  },
  {
   "cell_type": "code",
   "execution_count": 134,
   "id": "b73d8f67",
   "metadata": {},
   "outputs": [],
   "source": [
    "df['log_diff'] = np.log2(df['Difference'] + 1)"
   ]
  },
  {
   "cell_type": "markdown",
   "id": "6b0a3fe9",
   "metadata": {},
   "source": [
    "### Checking correlation "
   ]
  },
  {
   "cell_type": "code",
   "execution_count": 143,
   "id": "70e7053c",
   "metadata": {},
   "outputs": [
    {
     "data": {
      "text/plain": [
       "isAttended            1.000000\n",
       "log_diff              0.429575\n",
       "Difference            0.321774\n",
       "log_price             0.201924\n",
       "event_date_weeknum    0.181199\n",
       "                        ...   \n",
       "event_date_weekday   -0.033030\n",
       "SeatNum              -0.071945\n",
       "isEndMonth           -0.077789\n",
       "section_name         -0.094325\n",
       "comp_name_group      -0.449143\n",
       "Name: isAttended, Length: 26, dtype: float64"
      ]
     },
     "execution_count": 143,
     "metadata": {},
     "output_type": "execute_result"
    }
   ],
   "source": [
    "corr['isAttended'].sort_values(ascending = False)"
   ]
  },
  {
   "cell_type": "code",
   "execution_count": null,
   "id": "5d45d61f",
   "metadata": {},
   "outputs": [],
   "source": [
    "corr = df.corr()"
   ]
  },
  {
   "cell_type": "markdown",
   "id": "ef25b6f8",
   "metadata": {},
   "source": [
    "### Dropping columns that do not impact the target variable"
   ]
  },
  {
   "cell_type": "code",
   "execution_count": 144,
   "id": "83bd5094",
   "metadata": {},
   "outputs": [],
   "source": [
    "df.drop(columns = ['event_date_month','log_price',\n",
    "       'log_tenure', 'log_diff', 'between_event_date','log_diff_resale','section_name'],inplace=True)"
   ]
  },
  {
   "cell_type": "code",
   "execution_count": 146,
   "id": "fa6b21ba",
   "metadata": {},
   "outputs": [],
   "source": [
    "df.drop(columns = ['lagged','acct_id', 'price_code'],inplace=True)"
   ]
  },
  {
   "cell_type": "code",
   "execution_count": 147,
   "id": "e8a8b380",
   "metadata": {},
   "outputs": [
    {
     "data": {
      "text/plain": [
       "(1158228, 40)"
      ]
     },
     "execution_count": 147,
     "metadata": {},
     "output_type": "execute_result"
    }
   ],
   "source": [
    "df.shape"
   ]
  },
  {
   "cell_type": "code",
   "execution_count": 149,
   "id": "5bd6fa24",
   "metadata": {},
   "outputs": [
    {
     "data": {
      "text/plain": [
       "Index(['acct_type_desc', 'event_name', 'plan_event_name', 'comp_name',\n",
       "       'row_name', 'SeatNum', 'PC1', 'Price', 'paid', 'class_name', 'status',\n",
       "       'isHost', 'SeatType', 'TicketClass', 'Term', 'TicketType',\n",
       "       'SeatUniqueID', 'Season', 'Tenure', 'UniqueID', 'isAttended', 'Resold',\n",
       "       'ResalePrice', 'isSTM', 'exp_combined', 'acct_type_desc_mod',\n",
       "       'acct_type_desc_grp', 'TicketClass_mode', 'row_name_new',\n",
       "       'price_code_mod', 'event_date_weekday', 'event_holiday_or_not',\n",
       "       'Section_Name_based_on_price', 'comp_name_group', 'event_date_day',\n",
       "       'isEndMonth', 'sales_crc_encode', 'Difference_resale', 'Difference',\n",
       "       'event_date_weeknum'],\n",
       "      dtype='object')"
      ]
     },
     "execution_count": 149,
     "metadata": {},
     "output_type": "execute_result"
    }
   ],
   "source": [
    "df.columns"
   ]
  },
  {
   "cell_type": "markdown",
   "id": "8f745452",
   "metadata": {},
   "source": [
    "### Saving the dataset"
   ]
  },
  {
   "cell_type": "code",
   "execution_count": 150,
   "id": "415e5ded",
   "metadata": {},
   "outputs": [],
   "source": [
    "df.to_csv(\"train_data_nolog_pc.csv\",index=False)"
   ]
  }
 ],
 "metadata": {
  "kernelspec": {
   "display_name": "Python 3 (ipykernel)",
   "language": "python",
   "name": "python3"
  },
  "language_info": {
   "codemirror_mode": {
    "name": "ipython",
    "version": 3
   },
   "file_extension": ".py",
   "mimetype": "text/x-python",
   "name": "python",
   "nbconvert_exporter": "python",
   "pygments_lexer": "ipython3",
   "version": "3.9.13"
  }
 },
 "nbformat": 4,
 "nbformat_minor": 5
}
